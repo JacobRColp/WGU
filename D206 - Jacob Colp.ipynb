{
 "cells": [
  {
   "cell_type": "code",
   "execution_count": 667,
   "metadata": {
    "collapsed": true
   },
   "outputs": [],
   "source": [
    "import pandas as pd\n",
    "import numpy as np\n",
    "from matplotlib import pyplot\n",
    "from sklearn import preprocessing\n",
    "from sklearn.experimental import enable_iterative_imputer\n",
    "from sklearn.impute import IterativeImputer"
   ]
  },
  {
   "cell_type": "code",
   "execution_count": 681,
   "outputs": [],
   "source": [
    "Med_df = pd.read_csv(r'C:\\Users\\jacob.colp.UNITY\\Downloads\\Medical Data Raw\\medical_raw_data.csv').set_index('Unnamed: 0')\n",
    "\n",
    "Med_df = Med_df.reset_index(drop = True)"
   ],
   "metadata": {
    "collapsed": false,
    "pycharm": {
     "name": "#%%\n"
    }
   }
  },
  {
   "cell_type": "code",
   "execution_count": 682,
   "outputs": [
    {
     "data": {
      "text/plain": "         CaseOrder           Zip           Lat           Lng     Population  \\\ncount  10000.00000  10000.000000  10000.000000  10000.000000   10000.000000   \nmean    5000.50000  50159.323900     38.751099    -91.243080    9965.253800   \nstd     2886.89568  27469.588208      5.403085     15.205998   14824.758614   \nmin        1.00000    610.000000     17.967190   -174.209690       0.000000   \n25%     2500.75000  27592.000000     35.255120    -97.352982     694.750000   \n50%     5000.50000  50207.000000     39.419355    -88.397230    2769.000000   \n75%     7500.25000  72411.750000     42.044175    -80.438050   13945.000000   \nmax    10000.00000  99929.000000     70.560990    -65.290170  122814.000000   \n\n          Children          Age         Income   VitD_levels    Doc_visits  \\\ncount  7412.000000  7586.000000    7536.000000  10000.000000  10000.000000   \nmean      2.098219    53.295676   40484.438268     19.412675      5.012200   \nstd       2.155427    20.659182   28664.861050      6.723277      1.045734   \nmin       0.000000    18.000000     154.080000      9.519012      1.000000   \n25%       0.000000    35.000000   19450.792500     16.513171      4.000000   \n50%       1.000000    53.000000   33942.280000     18.080560      5.000000   \n75%       3.000000    71.000000   54075.235000     19.789740      6.000000   \nmax      10.000000    89.000000  207249.130000     53.019124      9.000000   \n\n       ...   TotalCharge  Additional_charges         Item1         Item2  \\\ncount  ...  10000.000000        10000.000000  10000.000000  10000.000000   \nmean   ...   5891.538261        12934.528586      3.518800      3.506700   \nstd    ...   3377.558136         6542.601544      1.031966      1.034825   \nmin    ...   1256.751699         3125.702716      1.000000      1.000000   \n25%    ...   3253.239465         7986.487642      3.000000      3.000000   \n50%    ...   5852.250564        11573.979365      4.000000      3.000000   \n75%    ...   7614.989701        15626.491033      4.000000      4.000000   \nmax    ...  21524.224210        30566.073130      8.000000      7.000000   \n\n              Item3         Item4         Item5         Item6         Item7  \\\ncount  10000.000000  10000.000000  10000.000000  10000.000000  10000.000000   \nmean       3.511100      3.515100      3.496900      3.522500      3.494000   \nstd        1.032755      1.036282      1.030192      1.032376      1.021405   \nmin        1.000000      1.000000      1.000000      1.000000      1.000000   \n25%        3.000000      3.000000      3.000000      3.000000      3.000000   \n50%        4.000000      4.000000      3.000000      4.000000      3.000000   \n75%        4.000000      4.000000      4.000000      4.000000      4.000000   \nmax        8.000000      7.000000      7.000000      7.000000      7.000000   \n\n              Item8  \ncount  10000.000000  \nmean       3.509700  \nstd        1.042312  \nmin        1.000000  \n25%        3.000000  \n50%        3.000000  \n75%        4.000000  \nmax        7.000000  \n\n[8 rows x 25 columns]",
      "text/html": "<div>\n<style scoped>\n    .dataframe tbody tr th:only-of-type {\n        vertical-align: middle;\n    }\n\n    .dataframe tbody tr th {\n        vertical-align: top;\n    }\n\n    .dataframe thead th {\n        text-align: right;\n    }\n</style>\n<table border=\"1\" class=\"dataframe\">\n  <thead>\n    <tr style=\"text-align: right;\">\n      <th></th>\n      <th>CaseOrder</th>\n      <th>Zip</th>\n      <th>Lat</th>\n      <th>Lng</th>\n      <th>Population</th>\n      <th>Children</th>\n      <th>Age</th>\n      <th>Income</th>\n      <th>VitD_levels</th>\n      <th>Doc_visits</th>\n      <th>...</th>\n      <th>TotalCharge</th>\n      <th>Additional_charges</th>\n      <th>Item1</th>\n      <th>Item2</th>\n      <th>Item3</th>\n      <th>Item4</th>\n      <th>Item5</th>\n      <th>Item6</th>\n      <th>Item7</th>\n      <th>Item8</th>\n    </tr>\n  </thead>\n  <tbody>\n    <tr>\n      <th>count</th>\n      <td>10000.00000</td>\n      <td>10000.000000</td>\n      <td>10000.000000</td>\n      <td>10000.000000</td>\n      <td>10000.000000</td>\n      <td>7412.000000</td>\n      <td>7586.000000</td>\n      <td>7536.000000</td>\n      <td>10000.000000</td>\n      <td>10000.000000</td>\n      <td>...</td>\n      <td>10000.000000</td>\n      <td>10000.000000</td>\n      <td>10000.000000</td>\n      <td>10000.000000</td>\n      <td>10000.000000</td>\n      <td>10000.000000</td>\n      <td>10000.000000</td>\n      <td>10000.000000</td>\n      <td>10000.000000</td>\n      <td>10000.000000</td>\n    </tr>\n    <tr>\n      <th>mean</th>\n      <td>5000.50000</td>\n      <td>50159.323900</td>\n      <td>38.751099</td>\n      <td>-91.243080</td>\n      <td>9965.253800</td>\n      <td>2.098219</td>\n      <td>53.295676</td>\n      <td>40484.438268</td>\n      <td>19.412675</td>\n      <td>5.012200</td>\n      <td>...</td>\n      <td>5891.538261</td>\n      <td>12934.528586</td>\n      <td>3.518800</td>\n      <td>3.506700</td>\n      <td>3.511100</td>\n      <td>3.515100</td>\n      <td>3.496900</td>\n      <td>3.522500</td>\n      <td>3.494000</td>\n      <td>3.509700</td>\n    </tr>\n    <tr>\n      <th>std</th>\n      <td>2886.89568</td>\n      <td>27469.588208</td>\n      <td>5.403085</td>\n      <td>15.205998</td>\n      <td>14824.758614</td>\n      <td>2.155427</td>\n      <td>20.659182</td>\n      <td>28664.861050</td>\n      <td>6.723277</td>\n      <td>1.045734</td>\n      <td>...</td>\n      <td>3377.558136</td>\n      <td>6542.601544</td>\n      <td>1.031966</td>\n      <td>1.034825</td>\n      <td>1.032755</td>\n      <td>1.036282</td>\n      <td>1.030192</td>\n      <td>1.032376</td>\n      <td>1.021405</td>\n      <td>1.042312</td>\n    </tr>\n    <tr>\n      <th>min</th>\n      <td>1.00000</td>\n      <td>610.000000</td>\n      <td>17.967190</td>\n      <td>-174.209690</td>\n      <td>0.000000</td>\n      <td>0.000000</td>\n      <td>18.000000</td>\n      <td>154.080000</td>\n      <td>9.519012</td>\n      <td>1.000000</td>\n      <td>...</td>\n      <td>1256.751699</td>\n      <td>3125.702716</td>\n      <td>1.000000</td>\n      <td>1.000000</td>\n      <td>1.000000</td>\n      <td>1.000000</td>\n      <td>1.000000</td>\n      <td>1.000000</td>\n      <td>1.000000</td>\n      <td>1.000000</td>\n    </tr>\n    <tr>\n      <th>25%</th>\n      <td>2500.75000</td>\n      <td>27592.000000</td>\n      <td>35.255120</td>\n      <td>-97.352982</td>\n      <td>694.750000</td>\n      <td>0.000000</td>\n      <td>35.000000</td>\n      <td>19450.792500</td>\n      <td>16.513171</td>\n      <td>4.000000</td>\n      <td>...</td>\n      <td>3253.239465</td>\n      <td>7986.487642</td>\n      <td>3.000000</td>\n      <td>3.000000</td>\n      <td>3.000000</td>\n      <td>3.000000</td>\n      <td>3.000000</td>\n      <td>3.000000</td>\n      <td>3.000000</td>\n      <td>3.000000</td>\n    </tr>\n    <tr>\n      <th>50%</th>\n      <td>5000.50000</td>\n      <td>50207.000000</td>\n      <td>39.419355</td>\n      <td>-88.397230</td>\n      <td>2769.000000</td>\n      <td>1.000000</td>\n      <td>53.000000</td>\n      <td>33942.280000</td>\n      <td>18.080560</td>\n      <td>5.000000</td>\n      <td>...</td>\n      <td>5852.250564</td>\n      <td>11573.979365</td>\n      <td>4.000000</td>\n      <td>3.000000</td>\n      <td>4.000000</td>\n      <td>4.000000</td>\n      <td>3.000000</td>\n      <td>4.000000</td>\n      <td>3.000000</td>\n      <td>3.000000</td>\n    </tr>\n    <tr>\n      <th>75%</th>\n      <td>7500.25000</td>\n      <td>72411.750000</td>\n      <td>42.044175</td>\n      <td>-80.438050</td>\n      <td>13945.000000</td>\n      <td>3.000000</td>\n      <td>71.000000</td>\n      <td>54075.235000</td>\n      <td>19.789740</td>\n      <td>6.000000</td>\n      <td>...</td>\n      <td>7614.989701</td>\n      <td>15626.491033</td>\n      <td>4.000000</td>\n      <td>4.000000</td>\n      <td>4.000000</td>\n      <td>4.000000</td>\n      <td>4.000000</td>\n      <td>4.000000</td>\n      <td>4.000000</td>\n      <td>4.000000</td>\n    </tr>\n    <tr>\n      <th>max</th>\n      <td>10000.00000</td>\n      <td>99929.000000</td>\n      <td>70.560990</td>\n      <td>-65.290170</td>\n      <td>122814.000000</td>\n      <td>10.000000</td>\n      <td>89.000000</td>\n      <td>207249.130000</td>\n      <td>53.019124</td>\n      <td>9.000000</td>\n      <td>...</td>\n      <td>21524.224210</td>\n      <td>30566.073130</td>\n      <td>8.000000</td>\n      <td>7.000000</td>\n      <td>8.000000</td>\n      <td>7.000000</td>\n      <td>7.000000</td>\n      <td>7.000000</td>\n      <td>7.000000</td>\n      <td>7.000000</td>\n    </tr>\n  </tbody>\n</table>\n<p>8 rows × 25 columns</p>\n</div>"
     },
     "execution_count": 682,
     "metadata": {},
     "output_type": "execute_result"
    }
   ],
   "source": [
    "Med_df.describe()"
   ],
   "metadata": {
    "collapsed": false,
    "pycharm": {
     "name": "#%%\n"
    }
   }
  },
  {
   "cell_type": "code",
   "execution_count": 684,
   "outputs": [
    {
     "name": "stdout",
     "output_type": "stream",
     "text": [
      "<class 'pandas.core.frame.DataFrame'>\n",
      "RangeIndex: 10000 entries, 0 to 9999\n",
      "Data columns (total 52 columns):\n",
      " #   Column              Non-Null Count  Dtype  \n",
      "---  ------              --------------  -----  \n",
      " 0   CaseOrder           10000 non-null  int64  \n",
      " 1   Customer_id         10000 non-null  object \n",
      " 2   Interaction         10000 non-null  object \n",
      " 3   UID                 10000 non-null  object \n",
      " 4   City                10000 non-null  object \n",
      " 5   State               10000 non-null  object \n",
      " 6   County              10000 non-null  object \n",
      " 7   Zip                 10000 non-null  int64  \n",
      " 8   Lat                 10000 non-null  float64\n",
      " 9   Lng                 10000 non-null  float64\n",
      " 10  Population          10000 non-null  int64  \n",
      " 11  Area                10000 non-null  object \n",
      " 12  Timezone            10000 non-null  object \n",
      " 13  Job                 10000 non-null  object \n",
      " 14  Children            7412 non-null   float64\n",
      " 15  Age                 7586 non-null   float64\n",
      " 16  Education           10000 non-null  object \n",
      " 17  Employment          10000 non-null  object \n",
      " 18  Income              7536 non-null   float64\n",
      " 19  Marital             10000 non-null  object \n",
      " 20  Gender              10000 non-null  object \n",
      " 21  ReAdmis             10000 non-null  int64  \n",
      " 22  VitD_levels         10000 non-null  float64\n",
      " 23  Doc_visits          10000 non-null  int64  \n",
      " 24  Full_meals_eaten    10000 non-null  int64  \n",
      " 25  VitD_supp           10000 non-null  int64  \n",
      " 26  Soft_drink          7533 non-null   float64\n",
      " 27  Initial_admin       10000 non-null  object \n",
      " 28  HighBlood           10000 non-null  int64  \n",
      " 29  Stroke              10000 non-null  int64  \n",
      " 30  Complication_risk   10000 non-null  int64  \n",
      " 31  Overweight          9018 non-null   float64\n",
      " 32  Arthritis           10000 non-null  int64  \n",
      " 33  Diabetes            10000 non-null  int64  \n",
      " 34  Hyperlipidemia      10000 non-null  int64  \n",
      " 35  BackPain            10000 non-null  int64  \n",
      " 36  Anxiety             9016 non-null   float64\n",
      " 37  Allergic_rhinitis   10000 non-null  int64  \n",
      " 38  Reflux_esophagitis  10000 non-null  int64  \n",
      " 39  Asthma              10000 non-null  int64  \n",
      " 40  Services            10000 non-null  object \n",
      " 41  Initial_days        8944 non-null   float64\n",
      " 42  TotalCharge         10000 non-null  float64\n",
      " 43  Additional_charges  10000 non-null  float64\n",
      " 44  Item1               10000 non-null  int64  \n",
      " 45  Item2               10000 non-null  int64  \n",
      " 46  Item3               10000 non-null  int64  \n",
      " 47  Item4               10000 non-null  int64  \n",
      " 48  Item5               10000 non-null  int64  \n",
      " 49  Item6               10000 non-null  int64  \n",
      " 50  Item7               10000 non-null  int64  \n",
      " 51  Item8               10000 non-null  int64  \n",
      "dtypes: float64(12), int64(25), object(15)\n",
      "memory usage: 4.0+ MB\n"
     ]
    }
   ],
   "source": [
    "for x in Med_df.columns:\n",
    "    if  Med_df[x].dtype == object:\n",
    "        Med_df[x].replace({'Yes':1,'yes':1,'No':0,'no':0}, inplace = True)\n",
    "\n",
    "Med_df.Complication_risk.replace({'High':3, 'Medium':2, 'Low':1}, inplace = True)\n",
    "\n",
    "Med_df.info()"
   ],
   "metadata": {
    "collapsed": false,
    "pycharm": {
     "name": "#%%\n"
    }
   }
  },
  {
   "cell_type": "code",
   "execution_count": 685,
   "outputs": [
    {
     "data": {
      "text/plain": "CaseOrder                0\nCustomer_id              0\nInteraction              0\nUID                      0\nCity                     0\nState                    0\nCounty                   0\nZip                      0\nLat                      0\nLng                      0\nPopulation               0\nArea                     0\nTimezone                 0\nJob                      0\nChildren              2588\nAge                   2414\nEducation                0\nEmployment               0\nIncome                2464\nMarital                  0\nGender                   0\nReAdmis                  0\nVitD_levels              0\nDoc_visits               0\nFull_meals_eaten         0\nVitD_supp                0\nSoft_drink            2467\nInitial_admin            0\nHighBlood                0\nStroke                   0\nComplication_risk        0\nOverweight             982\nArthritis                0\nDiabetes                 0\nHyperlipidemia           0\nBackPain                 0\nAnxiety                984\nAllergic_rhinitis        0\nReflux_esophagitis       0\nAsthma                   0\nServices                 0\nInitial_days          1056\nTotalCharge              0\nAdditional_charges       0\nItem1                    0\nItem2                    0\nItem3                    0\nItem4                    0\nItem5                    0\nItem6                    0\nItem7                    0\nItem8                    0\ndtype: int64"
     },
     "execution_count": 685,
     "metadata": {},
     "output_type": "execute_result"
    }
   ],
   "source": [
    "Med_df.isnull().sum()"
   ],
   "metadata": {
    "collapsed": false,
    "pycharm": {
     "name": "#%%\n"
    }
   }
  },
  {
   "cell_type": "code",
   "execution_count": 686,
   "outputs": [
    {
     "name": "stdout",
     "output_type": "stream",
     "text": [
      "CaseOrder: True\n",
      "Customer_id: True\n",
      "Interaction: True\n",
      "UID: True\n",
      "City: False\n",
      "State: False\n",
      "County: False\n",
      "Zip: False\n",
      "Lat: False\n",
      "Lng: False\n",
      "Population: False\n",
      "Area: False\n",
      "Timezone: False\n",
      "Job: False\n",
      "Children: False\n",
      "Age: False\n",
      "Education: False\n",
      "Employment: False\n",
      "Income: False\n",
      "Marital: False\n",
      "Gender: False\n",
      "ReAdmis: False\n",
      "VitD_levels: True\n",
      "Doc_visits: False\n",
      "Full_meals_eaten: False\n",
      "VitD_supp: False\n",
      "Soft_drink: False\n",
      "Initial_admin: False\n",
      "HighBlood: False\n",
      "Stroke: False\n",
      "Complication_risk: False\n",
      "Overweight: False\n",
      "Arthritis: False\n",
      "Diabetes: False\n",
      "Hyperlipidemia: False\n",
      "BackPain: False\n",
      "Anxiety: False\n",
      "Allergic_rhinitis: False\n",
      "Reflux_esophagitis: False\n",
      "Asthma: False\n",
      "Services: False\n",
      "Initial_days: False\n",
      "TotalCharge: True\n",
      "Additional_charges: False\n",
      "Item1: False\n",
      "Item2: False\n",
      "Item3: False\n",
      "Item4: False\n",
      "Item5: False\n",
      "Item6: False\n",
      "Item7: False\n",
      "Item8: False\n"
     ]
    }
   ],
   "source": [
    "#Find unique columns\n",
    "for x in Med_df:\n",
    "    print(x+': '+str(Med_df[x].is_unique))"
   ],
   "metadata": {
    "collapsed": false,
    "pycharm": {
     "name": "#%%\n"
    }
   }
  },
  {
   "cell_type": "code",
   "execution_count": 687,
   "outputs": [
    {
     "data": {
      "text/plain": "Index(['City', 'State', 'County', 'Zip', 'Lat', 'Lng', 'Population', 'Area',\n       'Timezone', 'Children', 'Age', 'Education', 'Employment', 'Gender',\n       'ReAdmis', 'VitD_levels', 'Doc_visits', 'Full_meals_eaten', 'VitD_supp',\n       'Soft_drink', 'Initial_admin', 'HighBlood', 'Stroke',\n       'Complication_risk', 'Overweight', 'Arthritis', 'Diabetes',\n       'Hyperlipidemia', 'BackPain', 'Anxiety', 'Allergic_rhinitis',\n       'Reflux_esophagitis', 'Asthma', 'Services', 'Initial_days',\n       'TotalCharge', 'Additional_charges', 'Item1', 'Item2', 'Item3', 'Item4',\n       'Item5', 'Item6', 'Item7', 'Item8'],\n      dtype='object')"
     },
     "execution_count": 687,
     "metadata": {},
     "output_type": "execute_result"
    }
   ],
   "source": [
    "#I am dropping Job, Income, and Marital Status because those all may not relate to the patient. There is no documentation on whether or not the patient is the primary insurance carrier and these variables are all relative to the primary insurace carrier. It is does not benefit our target outcome to have data that may not inform about that individual.\n",
    "\n",
    "Med_df.drop(['CaseOrder', 'Customer_id', 'Interaction', 'UID', 'Job', 'Income', 'Marital'], axis = 1, inplace = True)\n",
    "\n",
    "Med_df.columns"
   ],
   "metadata": {
    "collapsed": false,
    "pycharm": {
     "name": "#%%\n"
    }
   }
  },
  {
   "cell_type": "code",
   "execution_count": 688,
   "outputs": [
    {
     "data": {
      "text/plain": "City                  category\nState                 category\nCounty                category\nZip                   category\nLat                    float64\nLng                    float64\nPopulation               int64\nArea                  category\nTimezone              category\nChildren               float64\nAge                    float64\nEducation             category\nEmployment            category\nGender                category\nReAdmis                  int64\nVitD_levels            float64\nDoc_visits               int64\nFull_meals_eaten         int64\nVitD_supp                int64\nSoft_drink             float64\nInitial_admin         category\nHighBlood                int64\nStroke                   int64\nComplication_risk        int64\nOverweight             float64\nArthritis                int64\nDiabetes                 int64\nHyperlipidemia           int64\nBackPain                 int64\nAnxiety                float64\nAllergic_rhinitis        int64\nReflux_esophagitis       int64\nAsthma                   int64\nServices              category\nInitial_days           float64\nTotalCharge            float64\nAdditional_charges     float64\nItem1                    int64\nItem2                    int64\nItem3                    int64\nItem4                    int64\nItem5                    int64\nItem6                    int64\nItem7                    int64\nItem8                    int64\ndtype: object"
     },
     "execution_count": 688,
     "metadata": {},
     "output_type": "execute_result"
    }
   ],
   "source": [
    "categorical_variables = ['City', 'State', 'County', 'Zip', 'Area', 'Timezone', 'Education', 'Employment', 'Gender', 'Initial_admin', 'Services']\n",
    "\n",
    "for x in categorical_variables:\n",
    "    Med_df[x] = Med_df[x].astype('category')\n",
    "\n",
    "Med_df.dtypes"
   ],
   "metadata": {
    "collapsed": false,
    "pycharm": {
     "name": "#%%\n"
    }
   }
  },
  {
   "cell_type": "code",
   "execution_count": 689,
   "outputs": [
    {
     "name": "stdout",
     "output_type": "stream",
     "text": [
      "Houston           36\n",
      "San Antonio       26\n",
      "Springfield       22\n",
      "Miami             21\n",
      "New York          21\n",
      "                  ..\n",
      "Hollenberg         1\n",
      "Hollandale         1\n",
      "Holland Patent     1\n",
      "Holcombe           1\n",
      "Zumbro Falls       1\n",
      "Name: City, Length: 6072, dtype: int64\n",
      "TX    553\n",
      "CA    550\n",
      "PA    547\n",
      "NY    514\n",
      "IL    442\n",
      "OH    383\n",
      "MO    328\n",
      "FL    304\n",
      "VA    287\n",
      "IA    276\n",
      "MI    273\n",
      "MN    267\n",
      "NC    254\n",
      "GA    247\n",
      "KS    220\n",
      "WI    214\n",
      "KY    210\n",
      "WV    207\n",
      "OK    207\n",
      "IN    195\n",
      "TN    194\n",
      "AL    194\n",
      "WA    191\n",
      "AR    190\n",
      "NE    185\n",
      "CO    179\n",
      "NJ    176\n",
      "LA    173\n",
      "MA    149\n",
      "MS    134\n",
      "MD    131\n",
      "SC    128\n",
      "SD    123\n",
      "OR    122\n",
      "ME    122\n",
      "MT    112\n",
      "NM    110\n",
      "ID    109\n",
      "ND    108\n",
      "AZ    108\n",
      "CT     80\n",
      "NH     79\n",
      "UT     72\n",
      "AK     70\n",
      "VT     60\n",
      "NV     51\n",
      "WY     51\n",
      "PR     43\n",
      "HI     34\n",
      "DE     17\n",
      "RI     14\n",
      "DC     13\n",
      "Name: State, dtype: int64\n",
      "Jefferson      118\n",
      "Washington     100\n",
      "Franklin        93\n",
      "Los Angeles     88\n",
      "Montgomery      80\n",
      "              ... \n",
      "Churchill        1\n",
      "Republic         1\n",
      "Cimarron         1\n",
      "St. Martin       1\n",
      "Lamoille         1\n",
      "Name: County, Length: 1607, dtype: int64\n",
      "24136    4\n",
      "88345    4\n",
      "77663    4\n",
      "38330    4\n",
      "37324    4\n",
      "        ..\n",
      "37146    1\n",
      "37144    1\n",
      "37138    1\n",
      "37134    1\n",
      "99929    1\n",
      "Name: Zip, Length: 8612, dtype: int64\n",
      "36.06702    4\n",
      "33.34798    4\n",
      "35.25512    4\n",
      "39.38610    4\n",
      "37.86890    4\n",
      "           ..\n",
      "41.00911    1\n",
      "39.20560    1\n",
      "46.36035    1\n",
      "34.96563    1\n",
      "40.49998    1\n",
      "Name: Lat, Length: 8588, dtype: int64\n",
      "-121.28753    4\n",
      "-82.35159     4\n",
      "-85.99134     4\n",
      "-105.68001    4\n",
      "-89.03658     4\n",
      "             ..\n",
      "-74.87894     1\n",
      "-99.17911     1\n",
      "-91.81854     1\n",
      "-106.83727    1\n",
      "-80.19959     1\n",
      "Name: Lng, Length: 8601, dtype: int64\n",
      "0        109\n",
      "195       14\n",
      "115       11\n",
      "178       11\n",
      "285       11\n",
      "        ... \n",
      "8092       1\n",
      "11147      1\n",
      "27175      1\n",
      "7371       1\n",
      "41524      1\n",
      "Name: Population, Length: 5951, dtype: int64\n",
      "Rural       3369\n",
      "Suburban    3328\n",
      "Urban       3303\n",
      "Name: Area, dtype: int64\n",
      "America/New_York                  3889\n",
      "America/Chicago                   3771\n",
      "America/Los_Angeles                937\n",
      "America/Denver                     612\n",
      "America/Detroit                    262\n",
      "America/Indiana/Indianapolis       151\n",
      "America/Phoenix                    100\n",
      "America/Boise                       86\n",
      "America/Anchorage                   50\n",
      "America/Puerto_Rico                 43\n",
      "Pacific/Honolulu                    34\n",
      "America/Menominee                   14\n",
      "America/Nome                        12\n",
      "America/Indiana/Vincennes            8\n",
      "America/Sitka                        6\n",
      "America/Kentucky/Louisville          6\n",
      "America/Toronto                      5\n",
      "America/Indiana/Tell_City            3\n",
      "America/Indiana/Marengo              3\n",
      "America/North_Dakota/Beulah          2\n",
      "America/Indiana/Winamac              1\n",
      "America/Indiana/Vevay                1\n",
      "America/North_Dakota/New_Salem       1\n",
      "America/Indiana/Knox                 1\n",
      "America/Yakutat                      1\n",
      "America/Adak                         1\n",
      "Name: Timezone, dtype: int64\n",
      "0.0     1880\n",
      "1.0     1858\n",
      "3.0     1113\n",
      "2.0     1094\n",
      "4.0      739\n",
      "8.0      157\n",
      "7.0      154\n",
      "6.0      145\n",
      "5.0      126\n",
      "9.0       83\n",
      "10.0      63\n",
      "Name: Children, dtype: int64\n",
      "30.0    126\n",
      "47.0    124\n",
      "74.0    123\n",
      "38.0    123\n",
      "40.0    122\n",
      "       ... \n",
      "75.0     90\n",
      "82.0     90\n",
      "63.0     90\n",
      "51.0     89\n",
      "36.0     85\n",
      "Name: Age, Length: 72, dtype: int64\n",
      "Regular High School Diploma                 2444\n",
      "Bachelor's Degree                           1724\n",
      "Some College, 1 or More Years, No Degree    1484\n",
      "9th Grade to 12th Grade, No Diploma          832\n",
      "Associate's Degree                           797\n",
      "Master's Degree                              701\n",
      "Some College, Less than 1 Year               642\n",
      "Nursery School to 8th Grade                  552\n",
      "GED or Alternative Credential                389\n",
      "Professional School Degree                   208\n",
      "No Schooling Completed                       133\n",
      "Doctorate Degree                              94\n",
      "Name: Education, dtype: int64\n",
      "Full Time     6029\n",
      "Student       1017\n",
      "Part Time      991\n",
      "Unemployed     983\n",
      "Retired        980\n",
      "Name: Employment, dtype: int64\n",
      "Female                  5018\n",
      "Male                    4768\n",
      "Prefer not to answer     214\n",
      "Name: Gender, dtype: int64\n",
      "0    6331\n",
      "1    3669\n",
      "Name: ReAdmis, dtype: int64\n",
      "17.802330    1\n",
      "18.423248    1\n",
      "15.954743    1\n",
      "19.566698    1\n",
      "19.221626    1\n",
      "            ..\n",
      "18.107325    1\n",
      "17.331743    1\n",
      "49.013013    1\n",
      "18.292722    1\n",
      "20.421883    1\n",
      "Name: VitD_levels, Length: 10000, dtype: int64\n",
      "5    3823\n",
      "6    2436\n",
      "4    2385\n",
      "7     634\n",
      "3     595\n",
      "8      61\n",
      "2      58\n",
      "1       6\n",
      "9       2\n",
      "Name: Doc_visits, dtype: int64\n",
      "0    3715\n",
      "1    3615\n",
      "2    1856\n",
      "3     612\n",
      "4     169\n",
      "5      25\n",
      "6       6\n",
      "7       2\n",
      "Name: Full_meals_eaten, dtype: int64\n",
      "0    6702\n",
      "1    2684\n",
      "2     544\n",
      "3      64\n",
      "4       5\n",
      "5       1\n",
      "Name: VitD_supp, dtype: int64\n",
      "0.0    5589\n",
      "1.0    1944\n",
      "Name: Soft_drink, dtype: int64\n",
      "Emergency Admission      5060\n",
      "Elective Admission       2504\n",
      "Observation Admission    2436\n",
      "Name: Initial_admin, dtype: int64\n",
      "0    5910\n",
      "1    4090\n",
      "Name: HighBlood, dtype: int64\n",
      "0    8007\n",
      "1    1993\n",
      "Name: Stroke, dtype: int64\n",
      "2    4517\n",
      "3    3358\n",
      "1    2125\n",
      "Name: Complication_risk, dtype: int64\n",
      "1.0    6395\n",
      "0.0    2623\n",
      "Name: Overweight, dtype: int64\n",
      "0    6426\n",
      "1    3574\n",
      "Name: Arthritis, dtype: int64\n",
      "0    7262\n",
      "1    2738\n",
      "Name: Diabetes, dtype: int64\n",
      "0    6628\n",
      "1    3372\n",
      "Name: Hyperlipidemia, dtype: int64\n",
      "0    5886\n",
      "1    4114\n",
      "Name: BackPain, dtype: int64\n",
      "0.0    6110\n",
      "1.0    2906\n",
      "Name: Anxiety, dtype: int64\n",
      "0    6059\n",
      "1    3941\n",
      "Name: Allergic_rhinitis, dtype: int64\n",
      "0    5865\n",
      "1    4135\n",
      "Name: Reflux_esophagitis, dtype: int64\n",
      "0    7107\n",
      "1    2893\n",
      "Name: Asthma, dtype: int64\n",
      "Blood Work     5265\n",
      "Intravenous    3130\n",
      "CT Scan        1225\n",
      "MRI             380\n",
      "Name: Services, dtype: int64\n",
      "10.585770    1\n",
      "64.630142    1\n",
      "48.772686    1\n",
      "67.036508    1\n",
      "63.334689    1\n",
      "            ..\n",
      "9.216747     1\n",
      "1.021594     1\n",
      "10.261690    1\n",
      "17.170461    1\n",
      "70.850592    1\n",
      "Name: Initial_days, Length: 8944, dtype: int64\n",
      "3191.048774     1\n",
      "7329.393066     1\n",
      "8498.290160     1\n",
      "8451.833926     1\n",
      "7530.770634     1\n",
      "               ..\n",
      "2065.518265     1\n",
      "3409.593273     1\n",
      "15289.590000    1\n",
      "4383.419018     1\n",
      "8700.856021     1\n",
      "Name: TotalCharge, Length: 10000, dtype: int64\n",
      "8013.787149     5\n",
      "22000.064780    4\n",
      "3241.339760     4\n",
      "11303.682330    4\n",
      "8755.123303     4\n",
      "               ..\n",
      "20461.526600    1\n",
      "13357.949060    1\n",
      "5316.329223     1\n",
      "24412.109160    1\n",
      "11643.189930    1\n",
      "Name: Additional_charges, Length: 8888, dtype: int64\n",
      "4    3455\n",
      "3    3404\n",
      "5    1377\n",
      "2    1315\n",
      "6     225\n",
      "1     213\n",
      "7      10\n",
      "8       1\n",
      "Name: Item1, dtype: int64\n",
      "3    3439\n",
      "4    3351\n",
      "5    1421\n",
      "2    1360\n",
      "1     213\n",
      "6     204\n",
      "7      12\n",
      "Name: Item2, dtype: int64\n",
      "4    3464\n",
      "3    3379\n",
      "5    1358\n",
      "2    1356\n",
      "6     220\n",
      "1     211\n",
      "7      11\n",
      "8       1\n",
      "Name: Item3, dtype: int64\n",
      "3    3422\n",
      "4    3394\n",
      "5    1388\n",
      "2    1346\n",
      "6     231\n",
      "1     207\n",
      "7      12\n",
      "Name: Item4, dtype: int64\n",
      "4    3446\n",
      "3    3423\n",
      "2    1380\n",
      "5    1308\n",
      "6     219\n",
      "1     211\n",
      "7      13\n",
      "Name: Item5, dtype: int64\n",
      "4    3464\n",
      "3    3371\n",
      "5    1403\n",
      "2    1319\n",
      "6     220\n",
      "1     213\n",
      "7      10\n",
      "Name: Item6, dtype: int64\n",
      "4    3487\n",
      "3    3456\n",
      "2    1345\n",
      "5    1274\n",
      "1     215\n",
      "6     212\n",
      "7      11\n",
      "Name: Item7, dtype: int64\n",
      "3    3401\n",
      "4    3337\n",
      "5    1429\n",
      "2    1391\n",
      "6     221\n",
      "1     209\n",
      "7      12\n",
      "Name: Item8, dtype: int64\n"
     ]
    }
   ],
   "source": [
    "for x in Med_df:\n",
    "    print(Med_df[x].value_counts())"
   ],
   "metadata": {
    "collapsed": false,
    "pycharm": {
     "name": "#%%\n"
    }
   }
  },
  {
   "cell_type": "code",
   "source": [
    "#Encode categorical variables for multiple imputation in IterativeImputer. Original variables were stored as to be restored later in cleaning process.\n",
    "\n",
    "label_encode = preprocessing.LabelEncoder()\n",
    "\n",
    "for x in Med_df[categorical_variables]:\n",
    "    encode_column = str(x)+'_Encoded'\n",
    "    Med_df[encode_column] = label_encode.fit_transform(Med_df[x])\n",
    "\n",
    "Med_df_cat = Med_df[categorical_variables]\n",
    "\n",
    "Med_df.drop(categorical_variables, axis = 1, inplace = True)"
   ],
   "metadata": {
    "collapsed": false,
    "pycharm": {
     "name": "#%%\n"
    }
   },
   "execution_count": 690,
   "outputs": []
  },
  {
   "cell_type": "code",
   "execution_count": 691,
   "outputs": [
    {
     "data": {
      "text/plain": "0     0\n1     0\n2     0\n3     0\n4     0\n5     0\n6     0\n7     0\n8     0\n9     0\n10    0\n11    0\n12    0\n13    0\n14    0\n15    0\n16    0\n17    0\n18    0\n19    0\n20    0\n21    0\n22    0\n23    0\n24    0\n25    0\n26    0\n27    0\n28    0\n29    0\n30    0\n31    0\n32    0\n33    0\n34    0\n35    0\n36    0\n37    0\n38    0\n39    0\n40    0\n41    0\n42    0\n43    0\n44    0\ndtype: int64"
     },
     "execution_count": 691,
     "metadata": {},
     "output_type": "execute_result"
    }
   ],
   "source": [
    "#Use IterativeImputer from Sklearn to impute missing values in the dataset\n",
    "\n",
    "It_Imp = IterativeImputer(skip_complete = True, min_value = 0)\n",
    "\n",
    "Med_df_fill = np.round(It_Imp.fit_transform(Med_df))\n",
    "\n",
    "Med_df_fill = pd.DataFrame(Med_df_fill)\n",
    "\n",
    "Med_df_fill.isna().sum()"
   ],
   "metadata": {
    "collapsed": false,
    "pycharm": {
     "name": "#%%\n"
    }
   }
  },
  {
   "cell_type": "code",
   "execution_count": 692,
   "outputs": [
    {
     "data": {
      "text/plain": "Index(['Lat', 'Lng', 'Population', 'Children', 'Age', 'ReAdmis', 'VitD_levels',\n       'Doc_visits', 'Full_meals_eaten', 'VitD_supp', 'Soft_drink',\n       'HighBlood', 'Stroke', 'Complication_risk', 'Overweight', 'Arthritis',\n       'Diabetes', 'Hyperlipidemia', 'BackPain', 'Anxiety',\n       'Allergic_rhinitis', 'Reflux_esophagitis', 'Asthma', 'Initial_days',\n       'TotalCharge', 'Additional_charges', 'Item1', 'Item2', 'Item3', 'Item4',\n       'Item5', 'Item6', 'Item7', 'Item8', 'City', 'State', 'County', 'Zip',\n       'Area', 'Timezone', 'Education', 'Employment', 'Gender',\n       'Initial_admin', 'Services'],\n      dtype='object')"
     },
     "execution_count": 692,
     "metadata": {},
     "output_type": "execute_result"
    }
   ],
   "source": [
    "#Restore categorical values from holding df.\n",
    "\n",
    "for x in Med_df_cat:\n",
    "    Med_df[x] = Med_df_cat[x]\n",
    "    drop_encode_column = str(x)+'_Encoded'\n",
    "    Med_df.drop(drop_encode_column, axis = 1, inplace = True)\n",
    "\n",
    "Med_df.columns"
   ],
   "metadata": {
    "collapsed": false,
    "pycharm": {
     "name": "#%%\n"
    }
   }
  },
  {
   "cell_type": "code",
   "execution_count": 693,
   "outputs": [
    {
     "name": "stdout",
     "output_type": "stream",
     "text": [
      "36.06702    4\n",
      "33.34798    4\n",
      "35.25512    4\n",
      "39.38610    4\n",
      "37.86890    4\n",
      "           ..\n",
      "41.00911    1\n",
      "39.20560    1\n",
      "46.36035    1\n",
      "34.96563    1\n",
      "40.49998    1\n",
      "Name: Lat, Length: 8588, dtype: int64\n",
      "-121.28753    4\n",
      "-82.35159     4\n",
      "-85.99134     4\n",
      "-105.68001    4\n",
      "-89.03658     4\n",
      "             ..\n",
      "-74.87894     1\n",
      "-99.17911     1\n",
      "-91.81854     1\n",
      "-106.83727    1\n",
      "-80.19959     1\n",
      "Name: Lng, Length: 8601, dtype: int64\n",
      "0        109\n",
      "195       14\n",
      "115       11\n",
      "178       11\n",
      "285       11\n",
      "        ... \n",
      "8092       1\n",
      "11147      1\n",
      "27175      1\n",
      "7371       1\n",
      "41524      1\n",
      "Name: Population, Length: 5951, dtype: int64\n",
      "0.0    6702\n",
      "1.0    2684\n",
      "2.0     544\n",
      "3.0      64\n",
      "4.0       5\n",
      "5.0       1\n",
      "Name: Children, dtype: int64\n",
      "0.0    8056\n",
      "1.0    1944\n",
      "Name: Age, dtype: int64\n",
      "0    6331\n",
      "1    3669\n",
      "Name: ReAdmis, dtype: int64\n",
      "17.802330    1\n",
      "18.423248    1\n",
      "15.954743    1\n",
      "19.566698    1\n",
      "19.221626    1\n",
      "            ..\n",
      "18.107325    1\n",
      "17.331743    1\n",
      "49.013013    1\n",
      "18.292722    1\n",
      "20.421883    1\n",
      "Name: VitD_levels, Length: 10000, dtype: int64\n",
      "5    3823\n",
      "6    2436\n",
      "4    2385\n",
      "7     634\n",
      "3     595\n",
      "8      61\n",
      "2      58\n",
      "1       6\n",
      "9       2\n",
      "Name: Doc_visits, dtype: int64\n",
      "0    3715\n",
      "1    3615\n",
      "2    1856\n",
      "3     612\n",
      "4     169\n",
      "5      25\n",
      "6       6\n",
      "7       2\n",
      "Name: Full_meals_eaten, dtype: int64\n",
      "0    6702\n",
      "1    2684\n",
      "2     544\n",
      "3      64\n",
      "4       5\n",
      "5       1\n",
      "Name: VitD_supp, dtype: int64\n",
      "0.0    7094\n",
      "1.0    2906\n",
      "Name: Soft_drink, dtype: int64\n",
      "0    5910\n",
      "1    4090\n",
      "Name: HighBlood, dtype: int64\n",
      "0    8007\n",
      "1    1993\n",
      "Name: Stroke, dtype: int64\n",
      "2    4517\n",
      "3    3358\n",
      "1    2125\n",
      "Name: Complication_risk, dtype: int64\n",
      "3024.0     9\n",
      "3302.0     9\n",
      "3104.0     8\n",
      "7201.0     8\n",
      "3410.0     8\n",
      "          ..\n",
      "13333.0    1\n",
      "3538.0     1\n",
      "4205.0     1\n",
      "3767.0     1\n",
      "8027.0     1\n",
      "Name: Overweight, Length: 5297, dtype: int64\n",
      "0    6426\n",
      "1    3574\n",
      "Name: Arthritis, dtype: int64\n",
      "0    7262\n",
      "1    2738\n",
      "Name: Diabetes, dtype: int64\n",
      "0    6628\n",
      "1    3372\n",
      "Name: Hyperlipidemia, dtype: int64\n",
      "0    5886\n",
      "1    4114\n",
      "Name: BackPain, dtype: int64\n",
      "3.0    3422\n",
      "4.0    3394\n",
      "5.0    1388\n",
      "2.0    1346\n",
      "6.0     231\n",
      "1.0     207\n",
      "7.0      12\n",
      "Name: Anxiety, dtype: int64\n",
      "0    6059\n",
      "1    3941\n",
      "Name: Allergic_rhinitis, dtype: int64\n",
      "0    5865\n",
      "1    4135\n",
      "Name: Reflux_esophagitis, dtype: int64\n",
      "0    7107\n",
      "1    2893\n",
      "Name: Asthma, dtype: int64\n",
      "2471.0    36\n",
      "4804.0    26\n",
      "5156.0    22\n",
      "3800.0    21\n",
      "3432.0    21\n",
      "          ..\n",
      "1167.0     1\n",
      "5407.0     1\n",
      "3536.0     1\n",
      "5261.0     1\n",
      "1116.0     1\n",
      "Name: Initial_days, Length: 6072, dtype: int64\n",
      "3191.048774     1\n",
      "7329.393066     1\n",
      "8498.290160     1\n",
      "8451.833926     1\n",
      "7530.770634     1\n",
      "               ..\n",
      "2065.518265     1\n",
      "3409.593273     1\n",
      "15289.590000    1\n",
      "4383.419018     1\n",
      "8700.856021     1\n",
      "Name: TotalCharge, Length: 10000, dtype: int64\n",
      "8013.787149     5\n",
      "22000.064780    4\n",
      "3241.339760     4\n",
      "11303.682330    4\n",
      "8755.123303     4\n",
      "               ..\n",
      "20461.526600    1\n",
      "13357.949060    1\n",
      "5316.329223     1\n",
      "24412.109160    1\n",
      "11643.189930    1\n",
      "Name: Additional_charges, Length: 8888, dtype: int64\n",
      "4    3455\n",
      "3    3404\n",
      "5    1377\n",
      "2    1315\n",
      "6     225\n",
      "1     213\n",
      "7      10\n",
      "8       1\n",
      "Name: Item1, dtype: int64\n",
      "3    3439\n",
      "4    3351\n",
      "5    1421\n",
      "2    1360\n",
      "1     213\n",
      "6     204\n",
      "7      12\n",
      "Name: Item2, dtype: int64\n",
      "4    3464\n",
      "3    3379\n",
      "5    1358\n",
      "2    1356\n",
      "6     220\n",
      "1     211\n",
      "7      11\n",
      "8       1\n",
      "Name: Item3, dtype: int64\n",
      "3    3422\n",
      "4    3394\n",
      "5    1388\n",
      "2    1346\n",
      "6     231\n",
      "1     207\n",
      "7      12\n",
      "Name: Item4, dtype: int64\n",
      "4    3446\n",
      "3    3423\n",
      "2    1380\n",
      "5    1308\n",
      "6     219\n",
      "1     211\n",
      "7      13\n",
      "Name: Item5, dtype: int64\n",
      "4    3464\n",
      "3    3371\n",
      "5    1403\n",
      "2    1319\n",
      "6     220\n",
      "1     213\n",
      "7      10\n",
      "Name: Item6, dtype: int64\n",
      "4    3487\n",
      "3    3456\n",
      "2    1345\n",
      "5    1274\n",
      "1     215\n",
      "6     212\n",
      "7      11\n",
      "Name: Item7, dtype: int64\n",
      "3    3401\n",
      "4    3337\n",
      "5    1429\n",
      "2    1391\n",
      "6     221\n",
      "1     209\n",
      "7      12\n",
      "Name: Item8, dtype: int64\n",
      "Houston           36\n",
      "San Antonio       26\n",
      "Springfield       22\n",
      "Miami             21\n",
      "New York          21\n",
      "                  ..\n",
      "Hollenberg         1\n",
      "Hollandale         1\n",
      "Holland Patent     1\n",
      "Holcombe           1\n",
      "Zumbro Falls       1\n",
      "Name: City, Length: 6072, dtype: int64\n",
      "TX    553\n",
      "CA    550\n",
      "PA    547\n",
      "NY    514\n",
      "IL    442\n",
      "OH    383\n",
      "MO    328\n",
      "FL    304\n",
      "VA    287\n",
      "IA    276\n",
      "MI    273\n",
      "MN    267\n",
      "NC    254\n",
      "GA    247\n",
      "KS    220\n",
      "WI    214\n",
      "KY    210\n",
      "WV    207\n",
      "OK    207\n",
      "IN    195\n",
      "TN    194\n",
      "AL    194\n",
      "WA    191\n",
      "AR    190\n",
      "NE    185\n",
      "CO    179\n",
      "NJ    176\n",
      "LA    173\n",
      "MA    149\n",
      "MS    134\n",
      "MD    131\n",
      "SC    128\n",
      "SD    123\n",
      "OR    122\n",
      "ME    122\n",
      "MT    112\n",
      "NM    110\n",
      "ID    109\n",
      "ND    108\n",
      "AZ    108\n",
      "CT     80\n",
      "NH     79\n",
      "UT     72\n",
      "AK     70\n",
      "VT     60\n",
      "NV     51\n",
      "WY     51\n",
      "PR     43\n",
      "HI     34\n",
      "DE     17\n",
      "RI     14\n",
      "DC     13\n",
      "Name: State, dtype: int64\n",
      "Jefferson      118\n",
      "Washington     100\n",
      "Franklin        93\n",
      "Los Angeles     88\n",
      "Montgomery      80\n",
      "              ... \n",
      "Churchill        1\n",
      "Republic         1\n",
      "Cimarron         1\n",
      "St. Martin       1\n",
      "Lamoille         1\n",
      "Name: County, Length: 1607, dtype: int64\n",
      "24136    4\n",
      "88345    4\n",
      "77663    4\n",
      "38330    4\n",
      "37324    4\n",
      "        ..\n",
      "37146    1\n",
      "37144    1\n",
      "37138    1\n",
      "37134    1\n",
      "99929    1\n",
      "Name: Zip, Length: 8612, dtype: int64\n",
      "Rural       3369\n",
      "Suburban    3328\n",
      "Urban       3303\n",
      "Name: Area, dtype: int64\n",
      "America/New_York                  3889\n",
      "America/Chicago                   3771\n",
      "America/Los_Angeles                937\n",
      "America/Denver                     612\n",
      "America/Detroit                    262\n",
      "America/Indiana/Indianapolis       151\n",
      "America/Phoenix                    100\n",
      "America/Boise                       86\n",
      "America/Anchorage                   50\n",
      "America/Puerto_Rico                 43\n",
      "Pacific/Honolulu                    34\n",
      "America/Menominee                   14\n",
      "America/Nome                        12\n",
      "America/Indiana/Vincennes            8\n",
      "America/Sitka                        6\n",
      "America/Kentucky/Louisville          6\n",
      "America/Toronto                      5\n",
      "America/Indiana/Tell_City            3\n",
      "America/Indiana/Marengo              3\n",
      "America/North_Dakota/Beulah          2\n",
      "America/Indiana/Winamac              1\n",
      "America/Indiana/Vevay                1\n",
      "America/North_Dakota/New_Salem       1\n",
      "America/Indiana/Knox                 1\n",
      "America/Yakutat                      1\n",
      "America/Adak                         1\n",
      "Name: Timezone, dtype: int64\n",
      "Regular High School Diploma                 2444\n",
      "Bachelor's Degree                           1724\n",
      "Some College, 1 or More Years, No Degree    1484\n",
      "9th Grade to 12th Grade, No Diploma          832\n",
      "Associate's Degree                           797\n",
      "Master's Degree                              701\n",
      "Some College, Less than 1 Year               642\n",
      "Nursery School to 8th Grade                  552\n",
      "GED or Alternative Credential                389\n",
      "Professional School Degree                   208\n",
      "No Schooling Completed                       133\n",
      "Doctorate Degree                              94\n",
      "Name: Education, dtype: int64\n",
      "Full Time     6029\n",
      "Student       1017\n",
      "Part Time      991\n",
      "Unemployed     983\n",
      "Retired        980\n",
      "Name: Employment, dtype: int64\n",
      "Female                  5018\n",
      "Male                    4768\n",
      "Prefer not to answer     214\n",
      "Name: Gender, dtype: int64\n",
      "Emergency Admission      5060\n",
      "Elective Admission       2504\n",
      "Observation Admission    2436\n",
      "Name: Initial_admin, dtype: int64\n",
      "Blood Work     5265\n",
      "Intravenous    3130\n",
      "CT Scan        1225\n",
      "MRI             380\n",
      "Name: Services, dtype: int64\n"
     ]
    }
   ],
   "source": [
    "#Remap imputed values into original columns. Definitely a more effiecient way of this. Could probably get imputed column indexes from the IterativeImputer attributes\n",
    "\n",
    "Med_df['Children'] = Med_df_fill[9]\n",
    "Med_df['Age'] = Med_df_fill[10]\n",
    "Med_df['Soft_drink'] = Med_df_fill[19]\n",
    "Med_df['Overweight'] = Med_df_fill[24]\n",
    "Med_df['Anxiety'] = Med_df_fill[29]\n",
    "Med_df['Initial_days'] = Med_df_fill[34]\n",
    "\n",
    "for x in Med_df:\n",
    "    print(Med_df[x].value_counts())"
   ],
   "metadata": {
    "collapsed": false,
    "pycharm": {
     "name": "#%%\n"
    }
   }
  },
  {
   "cell_type": "code",
   "execution_count": 703,
   "outputs": [
    {
     "data": {
      "text/plain": "<Figure size 432x288 with 1 Axes>",
      "image/png": "[encoded data removed]"
     },
     "metadata": {
      "needs_background": "light"
     },
     "output_type": "display_data"
    },
    {
     "data": {
      "text/plain": "<Figure size 432x288 with 1 Axes>",
      "image/png": "[encoded data removed]"
     },
     "metadata": {
      "needs_background": "light"
     },
     "output_type": "display_data"
    },
    {
     "data": {
      "text/plain": "<Figure size 432x288 with 1 Axes>",
      "image/png": "[encoded data removed]"
     },
     "metadata": {
      "needs_background": "light"
     },
     "output_type": "display_data"
    },
    {
     "data": {
      "text/plain": "<Figure size 432x288 with 1 Axes>",
      "image/png": "[encoded data removed]"
     },
     "metadata": {
      "needs_background": "light"
     },
     "output_type": "display_data"
    },
    {
     "data": {
      "text/plain": "<Figure size 432x288 with 1 Axes>",
      "image/png": "[encoded data removed]"
     },
     "metadata": {
      "needs_background": "light"
     },
     "output_type": "display_data"
    },
    {
     "data": {
      "text/plain": "<Figure size 432x288 with 1 Axes>",
      "image/png": "[encoded data removed]"
     },
     "metadata": {
      "needs_background": "light"
     },
     "output_type": "display_data"
    },
    {
     "data": {
      "text/plain": "<Figure size 432x288 with 1 Axes>",
      "image/png": "[encoded data removed]"
     },
     "metadata": {
      "needs_background": "light"
     },
     "output_type": "display_data"
    },
    {
     "data": {
      "text/plain": "<Figure size 432x288 with 1 Axes>",
      "image/png": "[encoded data removed]"
     },
     "metadata": {
      "needs_background": "light"
     },
     "output_type": "display_data"
    },
    {
     "data": {
      "text/plain": "<Figure size 432x288 with 1 Axes>",
      "image/png": "[encoded data removed]"
     },
     "metadata": {
      "needs_background": "light"
     },
     "output_type": "display_data"
    },
    {
     "data": {
      "text/plain": "<Figure size 432x288 with 1 Axes>",
      "image/png": "[encoded data removed]"
     },
     "metadata": {
      "needs_background": "light"
     },
     "output_type": "display_data"
    },
    {
     "data": {
      "text/plain": "<Figure size 432x288 with 1 Axes>",
      "image/png": "[encoded data removed]"
     },
     "metadata": {
      "needs_background": "light"
     },
     "output_type": "display_data"
    },
    {
     "data": {
      "text/plain": "<Figure size 432x288 with 1 Axes>",
      "image/png": "[encoded data removed]"
     },
     "metadata": {
      "needs_background": "light"
     },
     "output_type": "display_data"
    },
    {
     "data": {
      "text/plain": "<Figure size 432x288 with 1 Axes>",
      "image/png": "[encoded data removed]"
     },
     "metadata": {
      "needs_background": "light"
     },
     "output_type": "display_data"
    },
    {
     "data": {
      "text/plain": "<Figure size 432x288 with 1 Axes>",
      "image/png": "[encoded data removed]"
     },
     "metadata": {
      "needs_background": "light"
     },
     "output_type": "display_data"
    },
    {
     "data": {
      "text/plain": "<Figure size 432x288 with 1 Axes>",
      "image/png": "[encoded data removed]"
     },
     "metadata": {
      "needs_background": "light"
     },
     "output_type": "display_data"
    },
    {
     "data": {
      "text/plain": "<Figure size 432x288 with 1 Axes>",
      "image/png": "[encoded data removed]"
     },
     "metadata": {
      "needs_background": "light"
     },
     "output_type": "display_data"
    },
    {
     "data": {
      "text/plain": "<Figure size 432x288 with 1 Axes>",
      "image/png": "[encoded data removed]"
     },
     "metadata": {
      "needs_background": "light"
     },
     "output_type": "display_data"
    },
    {
     "data": {
      "text/plain": "<Figure size 432x288 with 1 Axes>",
      "image/png": "[encoded data removed]"
     },
     "metadata": {
      "needs_background": "light"
     },
     "output_type": "display_data"
    },
    {
     "data": {
      "text/plain": "<Figure size 432x288 with 1 Axes>",
      "image/png": "[encoded data removed]"
     },
     "metadata": {
      "needs_background": "light"
     },
     "output_type": "display_data"
    },
    {
     "data": {
      "text/plain": "<Figure size 432x288 with 1 Axes>",
      "image/png": "[encoded data removed]"
     },
     "metadata": {
      "needs_background": "light"
     },
     "output_type": "display_data"
    },
    {
     "data": {
      "text/plain": "<Figure size 432x288 with 1 Axes>",
      "image/png": "[encoded data removed]"
     },
     "metadata": {
      "needs_background": "light"
     },
     "output_type": "display_data"
    },
    {
     "data": {
      "text/plain": "<Figure size 432x288 with 1 Axes>",
      "image/png": "[encoded data removed]"
     },
     "metadata": {
      "needs_background": "light"
     },
     "output_type": "display_data"
    },
    {
     "data": {
      "text/plain": "<Figure size 432x288 with 1 Axes>",
      "image/png": "[encoded data removed]"
     },
     "metadata": {
      "needs_background": "light"
     },
     "output_type": "display_data"
    },
    {
     "data": {
      "text/plain": "<Figure size 432x288 with 1 Axes>",
      "image/png": "[encoded data removed]"
     },
     "metadata": {
      "needs_background": "light"
     },
     "output_type": "display_data"
    },
    {
     "data": {
      "text/plain": "<Figure size 432x288 with 1 Axes>",
      "image/png": "[encoded data removed]"
     },
     "metadata": {
      "needs_background": "light"
     },
     "output_type": "display_data"
    },
    {
     "data": {
      "text/plain": "<Figure size 432x288 with 1 Axes>",
      "image/png": "[encoded data removed]"
     },
     "metadata": {
      "needs_background": "light"
     },
     "output_type": "display_data"
    },
    {
     "data": {
      "text/plain": "<Figure size 432x288 with 1 Axes>",
      "image/png": "[encoded data removed]"
     },
     "metadata": {
      "needs_background": "light"
     },
     "output_type": "display_data"
    },
    {
     "data": {
      "text/plain": "<Figure size 432x288 with 1 Axes>",
      "image/png": "[encoded data removed]"
     },
     "metadata": {
      "needs_background": "light"
     },
     "output_type": "display_data"
    },
    {
     "data": {
      "text/plain": "<Figure size 432x288 with 1 Axes>",
      "image/png": "[encoded data removed]"
     },
     "metadata": {
      "needs_background": "light"
     },
     "output_type": "display_data"
    },
    {
     "data": {
      "text/plain": "<Figure size 432x288 with 1 Axes>",
      "image/png": "[encoded data removed]"
     },
     "metadata": {
      "needs_background": "light"
     },
     "output_type": "display_data"
    },
    {
     "data": {
      "text/plain": "<Figure size 432x288 with 1 Axes>",
      "image/png": "[encoded data removed]"
     },
     "metadata": {
      "needs_background": "light"
     },
     "output_type": "display_data"
    },
    {
     "data": {
      "text/plain": "<Figure size 432x288 with 1 Axes>",
      "image/png": "[encoded data removed]"
     },
     "metadata": {
      "needs_background": "light"
     },
     "output_type": "display_data"
    },
    {
     "data": {
      "text/plain": "<Figure size 432x288 with 1 Axes>",
      "image/png": "[encoded data removed]"
     },
     "metadata": {
      "needs_background": "light"
     },
     "output_type": "display_data"
    },
    {
     "data": {
      "text/plain": "<Figure size 432x288 with 1 Axes>",
      "image/png": "[encoded data removed]"
     },
     "metadata": {
      "needs_background": "light"
     },
     "output_type": "display_data"
    }
   ],
   "source": [
    "for x in Med_df.select_dtypes(exclude = [object, 'category']):\n",
    "        pyplot.boxplot(Med_df[x])\n",
    "        pyplot.xlabel(x)\n",
    "        pyplot.show()"
   ],
   "metadata": {
    "collapsed": false,
    "pycharm": {
     "name": "#%%\n"
    }
   }
  },
  {
   "cell_type": "code",
   "execution_count": null,
   "outputs": [],
   "source": [],
   "metadata": {
    "collapsed": false,
    "pycharm": {
     "name": "#%%\n"
    }
   }
  }
 ],
 "metadata": {
  "kernelspec": {
   "display_name": "Python 3",
   "language": "python",
   "name": "python3"
  },
  "language_info": {
   "codemirror_mode": {
    "name": "ipython",
    "version": 2
   },
   "file_extension": ".py",
   "mimetype": "text/x-python",
   "name": "python",
   "nbconvert_exporter": "python",
   "pygments_lexer": "ipython2",
   "version": "2.7.6"
  }
 },
 "nbformat": 4,
 "nbformat_minor": 0
}